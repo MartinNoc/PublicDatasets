{
 "cells": [
  {
   "cell_type": "code",
   "execution_count": null,
   "id": "83073e1c",
   "metadata": {},
   "outputs": [],
   "source": [
    "import numpy as np\n",
    "from pathlib import Path\n",
    "\n",
    "from tensorflow.keras.preprocessing import image\n",
    "from keras.applications.vgg16 import preprocess_input\n",
    "from keras.applications.vgg16 import VGG16"
   ]
  },
  {
   "cell_type": "code",
   "execution_count": null,
   "id": "54edd55a",
   "metadata": {},
   "outputs": [],
   "source": [
    "model = VGG16(weights='imagenet', include_top=False, input_shape=(460,700,3))"
   ]
  },
  {
   "cell_type": "code",
   "execution_count": null,
   "id": "2437c7dd",
   "metadata": {},
   "outputs": [],
   "source": [
    "n_train = 5005\n",
    "n_test = 2904"
   ]
  },
  {
   "cell_type": "code",
   "execution_count": null,
   "id": "cab479aa",
   "metadata": {},
   "outputs": [],
   "source": [
    "training_features = np.zeros((n_train, 14, 21, 512))\n",
    "\n",
    "for i, path in enumerate(Path('fold1/train').rglob('*.png')):\n",
    "    # read image\n",
    "    img = image.load_img(path)\n",
    "    img_data = image.img_to_array(img)\n",
    "    img_data = np.expand_dims(img_data, axis=0)\n",
    "    img_data = preprocess_input(img_data)\n",
    "    \n",
    "    # process image\n",
    "    vgg16_feature = model.predict(img_data)\n",
    "    np.save(f\"./features/train/{path.stem}.npy\", vgg16_feature)\n",
    "    # print(vgg16_feature.shape)\n",
    "    \n",
    "    # save result\n",
    "    # training_features[i] = vgg16_feature.reshape(vgg16_feature.shape[1:])"
   ]
  }
 ],
 "metadata": {
  "kernelspec": {
   "display_name": "Python 3 (ipykernel)",
   "language": "python",
   "name": "python3"
  },
  "language_info": {
   "codemirror_mode": {
    "name": "ipython",
    "version": 3
   },
   "file_extension": ".py",
   "mimetype": "text/x-python",
   "name": "python",
   "nbconvert_exporter": "python",
   "pygments_lexer": "ipython3",
   "version": "3.9.16"
  }
 },
 "nbformat": 4,
 "nbformat_minor": 5
}
